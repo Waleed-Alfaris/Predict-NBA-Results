{
  "nbformat": 4,
  "nbformat_minor": 0,
  "metadata": {
    "colab": {
      "name": "Feature Engineering.ipynb",
      "provenance": [],
      "collapsed_sections": [],
      "authorship_tag": "ABX9TyNlV8+S6MhaERos9wofJUlg",
      "include_colab_link": true
    },
    "kernelspec": {
      "name": "python3",
      "display_name": "Python 3"
    }
  },
  "cells": [
    {
      "cell_type": "markdown",
      "metadata": {
        "id": "view-in-github",
        "colab_type": "text"
      },
      "source": [
        "<a href=\"https://colab.research.google.com/github/Waleed-Alfaris/Predict-NBA-Results/blob/main/Feature_Engineering.ipynb\" target=\"_parent\"><img src=\"https://colab.research.google.com/assets/colab-badge.svg\" alt=\"Open In Colab\"/></a>"
      ]
    },
    {
      "cell_type": "markdown",
      "metadata": {
        "id": "9V6Kr6c0l30B"
      },
      "source": [
        "# Setup"
      ]
    },
    {
      "cell_type": "code",
      "metadata": {
        "colab": {
          "base_uri": "https://localhost:8080/"
        },
        "id": "LHgbn4sSqsGF",
        "outputId": "a7fb7abb-a417-43b1-a7be-979873e3b895"
      },
      "source": [
        "#mount google drive\n",
        "from google.colab import drive\n",
        "drive.mount('/content/drive')"
      ],
      "execution_count": null,
      "outputs": [
        {
          "output_type": "stream",
          "text": [
            "Mounted at /content/drive\n"
          ],
          "name": "stdout"
        }
      ]
    },
    {
      "cell_type": "code",
      "metadata": {
        "id": "Vsz2xRLXq4H2"
      },
      "source": [
        "import numpy as np\n",
        "import pandas as pd\n",
        "import math\n",
        "\n",
        "#transformations\n",
        "from sklearn.preprocessing import StandardScaler, OneHotEncoder, LabelEncoder"
      ],
      "execution_count": null,
      "outputs": []
    },
    {
      "cell_type": "code",
      "metadata": {
        "colab": {
          "base_uri": "https://localhost:8080/",
          "height": 75
        },
        "id": "6irpCzSnrAxM",
        "outputId": "da934e1f-e6d6-4607-da97-197d38a2e9ec"
      },
      "source": [
        "games_src = pd.read_csv('drive/MyDrive/Colab Notebooks/Final/V2/Data/games.csv')\n",
        "games_src.dropna(inplace=True)\n",
        "games_src.drop(columns=['GAME_STATUS_TEXT', 'TEAM_ID_home', 'TEAM_ID_away'], inplace=True) #drop redundant and unnecessary columns\n",
        "games_src['GAME_DATE_EST'] = pd.to_datetime(games_src['GAME_DATE_EST'])\n",
        "games_src = games_src.sort_values(by='GAME_DATE_EST')\n",
        "games_src.reset_index(drop=True, inplace=True)\n",
        "games_src = games_src.head(23372) #drop the 50, 2020 games (not enough data)\n",
        "games_src[games_src['GAME_ID'] == 20300001]"
      ],
      "execution_count": null,
      "outputs": [
        {
          "output_type": "execute_result",
          "data": {
            "text/html": [
              "<div>\n",
              "<style scoped>\n",
              "    .dataframe tbody tr th:only-of-type {\n",
              "        vertical-align: middle;\n",
              "    }\n",
              "\n",
              "    .dataframe tbody tr th {\n",
              "        vertical-align: top;\n",
              "    }\n",
              "\n",
              "    .dataframe thead th {\n",
              "        text-align: right;\n",
              "    }\n",
              "</style>\n",
              "<table border=\"1\" class=\"dataframe\">\n",
              "  <thead>\n",
              "    <tr style=\"text-align: right;\">\n",
              "      <th></th>\n",
              "      <th>GAME_DATE_EST</th>\n",
              "      <th>GAME_ID</th>\n",
              "      <th>HOME_TEAM_ID</th>\n",
              "      <th>VISITOR_TEAM_ID</th>\n",
              "      <th>SEASON</th>\n",
              "      <th>PTS_home</th>\n",
              "      <th>FG_PCT_home</th>\n",
              "      <th>FT_PCT_home</th>\n",
              "      <th>FG3_PCT_home</th>\n",
              "      <th>AST_home</th>\n",
              "      <th>REB_home</th>\n",
              "      <th>PTS_away</th>\n",
              "      <th>FG_PCT_away</th>\n",
              "      <th>FT_PCT_away</th>\n",
              "      <th>FG3_PCT_away</th>\n",
              "      <th>AST_away</th>\n",
              "      <th>REB_away</th>\n",
              "      <th>HOME_TEAM_WINS</th>\n",
              "    </tr>\n",
              "  </thead>\n",
              "  <tbody>\n",
              "    <tr>\n",
              "      <th>15</th>\n",
              "      <td>2003-10-28</td>\n",
              "      <td>20300001</td>\n",
              "      <td>1610612755</td>\n",
              "      <td>1610612748</td>\n",
              "      <td>2003</td>\n",
              "      <td>89.0</td>\n",
              "      <td>0.44</td>\n",
              "      <td>0.533</td>\n",
              "      <td>0.35</td>\n",
              "      <td>25.0</td>\n",
              "      <td>39.0</td>\n",
              "      <td>74.0</td>\n",
              "      <td>0.408</td>\n",
              "      <td>0.824</td>\n",
              "      <td>0.25</td>\n",
              "      <td>16.0</td>\n",
              "      <td>44.0</td>\n",
              "      <td>1</td>\n",
              "    </tr>\n",
              "  </tbody>\n",
              "</table>\n",
              "</div>"
            ],
            "text/plain": [
              "   GAME_DATE_EST   GAME_ID  HOME_TEAM_ID  ...  AST_away  REB_away  HOME_TEAM_WINS\n",
              "15    2003-10-28  20300001    1610612755  ...      16.0      44.0               1\n",
              "\n",
              "[1 rows x 18 columns]"
            ]
          },
          "metadata": {
            "tags": []
          },
          "execution_count": 6
        }
      ]
    },
    {
      "cell_type": "code",
      "metadata": {
        "colab": {
          "base_uri": "https://localhost:8080/"
        },
        "id": "tZ-FZDzaarrs",
        "outputId": "6715755f-9029-47be-cfee-60fe3f5d9242"
      },
      "source": [
        "#train test split\n",
        "games_src_train = games_src.head(int(len(games_src) * 0.9975) + 1)\n",
        "games_src_test = games_src.tail(int(len(games_src) * 0.0025))\n",
        "\n",
        "len(games_src_train), len(games_src_test)"
      ],
      "execution_count": null,
      "outputs": [
        {
          "output_type": "execute_result",
          "data": {
            "text/plain": [
              "(23314, 58)"
            ]
          },
          "metadata": {
            "tags": []
          },
          "execution_count": 186
        }
      ]
    },
    {
      "cell_type": "code",
      "metadata": {
        "id": "tX9ZFu30kJcT"
      },
      "source": [
        "#save to csv\n",
        "games_src_train.to_csv('drive/MyDrive/Colab Notebooks/Final/V2/Data/games_train.csv')\n",
        "games_src_test.to_csv('drive/MyDrive/Colab Notebooks/Final/V2/Data/games_test.csv')"
      ],
      "execution_count": null,
      "outputs": []
    },
    {
      "cell_type": "code",
      "metadata": {
        "colab": {
          "base_uri": "https://localhost:8080/",
          "height": 163
        },
        "id": "6B_fN7BkX2My",
        "outputId": "09c6421a-391e-47b5-8f4b-d9118b3cbd52"
      },
      "source": [
        "games_src_train.head()"
      ],
      "execution_count": null,
      "outputs": [
        {
          "output_type": "error",
          "ename": "NameError",
          "evalue": "ignored",
          "traceback": [
            "\u001b[0;31m---------------------------------------------------------------------------\u001b[0m",
            "\u001b[0;31mNameError\u001b[0m                                 Traceback (most recent call last)",
            "\u001b[0;32m<ipython-input-1-a4892427f872>\u001b[0m in \u001b[0;36m<module>\u001b[0;34m()\u001b[0m\n\u001b[0;32m----> 1\u001b[0;31m \u001b[0mgames_src_train\u001b[0m\u001b[0;34m.\u001b[0m\u001b[0mhead\u001b[0m\u001b[0;34m(\u001b[0m\u001b[0;34m)\u001b[0m\u001b[0;34m\u001b[0m\u001b[0;34m\u001b[0m\u001b[0m\n\u001b[0m",
            "\u001b[0;31mNameError\u001b[0m: name 'games_src_train' is not defined"
          ]
        }
      ]
    },
    {
      "cell_type": "markdown",
      "metadata": {
        "id": "k9QU_eBtrlSU"
      },
      "source": [
        "# ELO"
      ]
    },
    {
      "cell_type": "code",
      "metadata": {
        "id": "FAPhouRcrn9E"
      },
      "source": [
        "#Home and road team win probabilities implied by Elo ratings and home court adjustment\n",
        "def win_prob(h_elo, a_elo, h_court_advantage):\n",
        "    home = math.pow(10, h_elo/400)\n",
        "    road = math.pow(10, a_elo/400)\n",
        "    adj = math.pow(10, h_court_advantage/400) \n",
        "\n",
        "    denom = road + adj*home\n",
        "    h_prob = adj*home / denom\n",
        "    a_prob = road / denom \n",
        "\n",
        "    return h_prob, a_prob\n",
        "\n",
        "#odds the home team will win based on elo ratings and home court advantage\n",
        "def home_odds(h_elo, a_elo, h_court_advantage):\n",
        "    home = math.pow(10, h_elo/400)\n",
        "    road = math.pow(10, a_elo/400)\n",
        "    adj = math.pow(10, h_court_advantage/400)\n",
        "    return adj*home/road\n",
        "\n",
        "#this function determines the constant used in the elo rating, based on margin of victory and difference in elo ratings\n",
        "def elo_k(MOV, delta_elo):\n",
        "    k = 20\n",
        "    if MOV>0:\n",
        "        mult=(MOV+3)**(0.8)/(7.5+0.006*(delta_elo))\n",
        "    else:\n",
        "        mult=(-MOV+3)**(0.8)/(7.5+0.006*(-delta_elo))\n",
        "    return k*mult\n",
        "\n",
        "\n",
        "#updates the home and away teams elo ratings after a game \n",
        "def update_elo(h_score, a_score, h_elo, a_elo, home_court_advantage):\n",
        "    h_prob, a_prob = win_prob(h_elo, a_elo, home_court_advantage) \n",
        "\n",
        "    if (h_score - a_score > 0):\n",
        "        h_win = 1 \n",
        "        a_win = 0 \n",
        "    else:\n",
        "        h_win = 0 \n",
        "        a_win = 1 \n",
        "\n",
        "    k = elo_k(h_score - a_score, h_elo - a_elo)\n",
        "\n",
        "    new_h_elo = h_elo + k * (h_win - h_prob) \n",
        "    new_a_elo = a_elo + k * (a_win - a_prob)\n",
        "\n",
        "    return new_h_elo, new_a_elo\n",
        "\n",
        "\n",
        "#takes into account prev season elo\n",
        "def prev_elo(team, date, season, team_stats, elo_df):\n",
        "    prev_game = team_stats[team_stats['GAME_DATE_EST'] < date][(team_stats['HOME_TEAM_ID'] == team) | (team_stats['VISITOR_TEAM_ID'] == team)].sort_values(by = 'GAME_DATE_EST').tail(1).iloc[0] \n",
        "\n",
        "    if team == prev_game['HOME_TEAM_ID']:\n",
        "        elo_rating = elo_df[elo_df['GAME_ID'] == prev_game['GAME_ID']]['H_Post_Game_ELO'].values[0]\n",
        "    else:\n",
        "        elo_rating = elo_df[elo_df['GAME_ID'] == prev_game['GAME_ID']]['A_Post_Game_ELO'].values[0]\n",
        "  \n",
        "    if prev_game['SEASON'] != season:\n",
        "        return (0.75 * elo_rating) + (0.25 * 1505)\n",
        "    else:\n",
        "        return elo_rating"
      ],
      "execution_count": null,
      "outputs": []
    },
    {
      "cell_type": "code",
      "metadata": {
        "id": "8KMmIjZGrtS8"
      },
      "source": [
        "elo_df = pd.DataFrame(columns=['GAME_DATE_EST', 'GAME_ID', 'HOME_TEAM_ID', 'VISITOR_TEAM_ID', 'H_Pre_Game_ELO', 'A_Pre_Game_ELO', 'H_Post_Game_ELO', 'A_Post_Game_ELO'])\n",
        "\n",
        "for idx, row in games_src_train.iterrows():\n",
        "  game_id = row['GAME_ID']\n",
        "  date = row['GAME_DATE_EST']\n",
        "  season = row['SEASON']\n",
        "  h_team = row['HOME_TEAM_ID']\n",
        "  a_team = row['VISITOR_TEAM_ID']\n",
        "  h_score = row['PTS_home']\n",
        "  a_score = row['PTS_away']\n",
        "  \n",
        "  #check if team has already been found. If not, ELO is 1500, if so, find its most current ELO rating\n",
        "  if (h_team not in elo_df['HOME_TEAM_ID'].values) and (h_team not in elo_df['VISITOR_TEAM_ID'].values):\n",
        "    h_pregame_elo = 1500\n",
        "  else:\n",
        "    h_pregame_elo = prev_elo(h_team, date, season, games_src_train, elo_df)\n",
        "      \n",
        "  if (a_team not in elo_df['HOME_TEAM_ID'].values and a_team not in elo_df['VISITOR_TEAM_ID'].values):\n",
        "    a_pregame_elo = 1500\n",
        "  else:\n",
        "    a_pregame_elo = prev_elo(a_team, date, season, games_src_train, elo_df)\n",
        "      \n",
        "  #calculate new ELO using game results\n",
        "  h_postgame_elo, a_postgame_elo = update_elo(h_score, a_score, h_pregame_elo, a_pregame_elo, 69)\n",
        "  \n",
        "  #create new row and append to elo_df\n",
        "  elo_df_row = dict(GAME_ID = game_id,\n",
        "                    GAME_DATE_EST = date,\n",
        "                    HOME_TEAM_ID = h_team,\n",
        "                    VISITOR_TEAM_ID = a_team,\n",
        "                    H_Pre_Game_ELO = h_pregame_elo,\n",
        "                    A_Pre_Game_ELO = a_pregame_elo,\n",
        "                    H_Post_Game_ELO = h_postgame_elo,\n",
        "                    A_Post_Game_ELO = a_postgame_elo)\n",
        "  \n",
        "  elo_df = elo_df.append(elo_df_row, ignore_index=True)\n",
        "\n",
        "#remove post game ELO, which was only used to calculate new ELO  \n",
        "elo_df.drop(columns=['H_Post_Game_ELO', 'A_Post_Game_ELO'], inplace=True)\n",
        "elo_df.rename(columns={'A_Pre_Game_ELO':'A_ELO', 'H_Pre_Game_ELO':'H_ELO'}, inplace=True)"
      ],
      "execution_count": null,
      "outputs": []
    },
    {
      "cell_type": "code",
      "metadata": {
        "id": "vroIqC7usMdm"
      },
      "source": [
        "#save to csv\n",
        "elo_df.to_csv('drive/MyDrive/Colab Notebooks/Final/V2/Data/ELO.csv', index=False)"
      ],
      "execution_count": null,
      "outputs": []
    },
    {
      "cell_type": "code",
      "metadata": {
        "id": "jjObWGMczuh0"
      },
      "source": [
        "#using the ELO dataframe, make a new dataframe with each teams most recent ELO\n",
        "#this will be used to append ELO ratings to X_test\n",
        "team_elo_df = pd.DataFrame(columns=['TEAM', 'ELO'])\n",
        "\n",
        "for team in elo_df['HOME_TEAM_ID'].unique():\n",
        "  team_df = elo_df[(elo_df['HOME_TEAM_ID'] == team) | (elo_df['VISITOR_TEAM_ID'] == team)].sort_values(by='GAME_DATE_EST').tail(1).iloc[0]\n",
        "  \n",
        "  h_team = team_df['HOME_TEAM_ID']\n",
        "  a_team = team_df['VISITOR_TEAM_ID']\n",
        "  h_elo = team_df['H_ELO']\n",
        "  a_elo = team_df['A_ELO']\n",
        "\n",
        "  if team == h_team:\n",
        "    elo = h_elo\n",
        "  else:\n",
        "    elo = a_elo\n",
        "\n",
        "  team_elo_df_row = dict(TEAM = team,\n",
        "                         ELO = elo)\n",
        "\n",
        "  team_elo_df = team_elo_df.append(team_elo_df_row, ignore_index=True)"
      ],
      "execution_count": null,
      "outputs": []
    },
    {
      "cell_type": "code",
      "metadata": {
        "id": "_U62Sn2G3i3-"
      },
      "source": [
        "#save to csv\n",
        "team_elo_df.to_csv('drive/MyDrive/Colab Notebooks/Final/V2/Data/Team_ELO.csv', index=False)"
      ],
      "execution_count": null,
      "outputs": []
    },
    {
      "cell_type": "markdown",
      "metadata": {
        "id": "U8Vy8fnK6Yja"
      },
      "source": [
        "# Recent Performance\n",
        "- last 10 games\n",
        "- last 5 games\n",
        "- last 3 games\n",
        "- season"
      ]
    },
    {
      "cell_type": "code",
      "metadata": {
        "id": "lUDWiBap6hsa"
      },
      "source": [
        "#function that will return the avergae stats from the last n_games\n",
        "def get_recent_stats(team, date, games_df, n_games):\n",
        "  #first take only the rows that have game_dates prior to row being checked\n",
        "  #second, strip all rows that do not contain the team in question and take only the last 'n_games' rows\n",
        "  prev_games = games_df[games_df['GAME_DATE_EST'] < date]\n",
        "  team_df = prev_games[(prev_games['HOME_TEAM_ID'] == team) | (prev_games['VISITOR_TEAM_ID'] == team)].sort_values(by='GAME_DATE_EST').tail(n_games)\n",
        "\n",
        "  #split home and away team stats\n",
        "  h_df = team_df.iloc[:, [2,5,6,7,8,9,10]]\n",
        "  a_df = team_df.iloc[:, [3,11,12,13,14,15,16]]\n",
        "\n",
        "  #drop all rows that do not contain the team in question\n",
        "  h_df = h_df[h_df['HOME_TEAM_ID'] == team]\n",
        "  a_df = a_df[a_df['VISITOR_TEAM_ID'] == team]\n",
        "\n",
        "  #rename columns so we can merge the two dataframes\n",
        "  h_df.rename(columns={'HOME_TEAM_ID':'TEAM', \n",
        "                       'PTS_home':'SCORE',\n",
        "                       'FG_PCT_home':'FG_PCT',\n",
        "                       'FT_PCT_home':'FT_PCT',\n",
        "                       'FG3_PCT_home':'FG3_PCT',\n",
        "                       'AST_home':'AST',\n",
        "                       'REB_home':'REB'}, inplace=True)\n",
        "  \n",
        "  a_df.rename(columns={'VISITOR_TEAM_ID':'TEAM', \n",
        "                       'PTS_away':'SCORE',\n",
        "                       'FG_PCT_away':'FG_PCT',\n",
        "                       'FT_PCT_away':'FT_PCT',\n",
        "                       'FG3_PCT_away':'FG3_PCT',\n",
        "                       'AST_away':'AST',\n",
        "                       'REB_away':'REB'}, inplace=True)\n",
        "\n",
        "  #combine the two and then return the mean values for each stat\n",
        "  recent_df = pd.concat([h_df, a_df])\n",
        "\n",
        "  return recent_df.mean()"
      ],
      "execution_count": null,
      "outputs": []
    },
    {
      "cell_type": "code",
      "metadata": {
        "id": "TH_uKALFP9xj"
      },
      "source": [
        "#generate the final df with the columns required\n",
        "recent_stats_df = pd.DataFrame(columns=['GAME_DATE_EST',\n",
        "                                        'GAME_ID',\n",
        "                                        'SEASON',\n",
        "                                        'HOME_TEAM_ID',\n",
        "                                        'VISITOR_TEAM_ID',\n",
        "                                        'H_LAST_3_PTS',\n",
        "                                        'A_LAST_3_PTS',\n",
        "                                        'H_LAST_3_FG_PCT',\n",
        "                                        'A_LAST_3_FG_PCT',\n",
        "                                        'H_LAST_3_FT_PCT',\n",
        "                                        'A_LAST_3_FT_PCT',\n",
        "                                        'H_LAST_3_FG3_PCT',\n",
        "                                        'A_LAST_3_FG3_PCT',\n",
        "                                        'H_LAST_3_AST',\n",
        "                                        'A_LAST_3_AST',\n",
        "                                        'H_LAST_3_REB',\n",
        "                                        'A_LAST_3_REB',\n",
        "                                        'H_LAST_5_PTS',\n",
        "                                        'A_LAST_5_PTS',\n",
        "                                        'H_LAST_5_FG_PCT',\n",
        "                                        'A_LAST_5_FG_PCT',\n",
        "                                        'H_LAST_5_FT_PCT',\n",
        "                                        'A_LAST_5_FT_PCT',\n",
        "                                        'H_LAST_5_FG3_PCT',\n",
        "                                        'A_LAST_5_FG3_PCT',\n",
        "                                        'H_LAST_5_AST',\n",
        "                                        'A_LAST_5_AST',\n",
        "                                        'H_LAST_5_REB',\n",
        "                                        'A_LAST_5_REB',\n",
        "                                        'H_LAST_10_PTS',\n",
        "                                        'A_LAST_10_PTS',\n",
        "                                        'H_LAST_10_FG_PCT',\n",
        "                                        'A_LAST_10_FG_PCT',\n",
        "                                        'H_LAST_10_FT_PCT',\n",
        "                                        'A_LAST_10_FT_PCT',\n",
        "                                        'H_LAST_10_FG3_PCT',\n",
        "                                        'A_LAST_10_FG3_PCT',\n",
        "                                        'H_LAST_10_AST',\n",
        "                                        'A_LAST_10_AST',\n",
        "                                        'H_LAST_10_REB',\n",
        "                                        'A_LAST_10_REB'])\n",
        "\n",
        "#iterate through every row, store the necessary data then call the get_recent_stats function with the stored data\n",
        "for idx, row in games_src_train.iterrows():\n",
        "  h_team = row['HOME_TEAM_ID']\n",
        "  a_team = row['VISITOR_TEAM_ID']\n",
        "  date = row['GAME_DATE_EST']\n",
        "  game_id = row['GAME_ID']\n",
        "  season = row['SEASON']\n",
        "\n",
        "  #last 3 games\n",
        "  h_last_3 = get_recent_stats(h_team, date, games_src_train, 3)\n",
        "  a_last_3 = get_recent_stats(a_team, date, games_src_train, 3)\n",
        "\n",
        "  #last 5 games\n",
        "  h_last_5 = get_recent_stats(h_team, date, games_src_train, 5)\n",
        "  a_last_5 = get_recent_stats(a_team, date, games_src_train, 5)\n",
        "\n",
        "  #last 10 games\n",
        "  h_last_10 = get_recent_stats(h_team, date, games_src_train, 10)\n",
        "  a_last_10 = get_recent_stats(a_team, date, games_src_train, 10)\n",
        "\n",
        "  #generate new row and then append to df\n",
        "  recent_stats_df_row = dict(GAME_DATE_EST = date,\n",
        "                            GAME_ID = game_id,\n",
        "                            SEASON = season,\n",
        "                            HOME_TEAM_ID = h_team,\n",
        "                            VISITOR_TEAM_ID = a_team,\n",
        "                            H_LAST_3_PTS = h_last_3['SCORE'],\n",
        "                            H_LAST_3_FG_PCT = h_last_3['FG_PCT'],\n",
        "                            H_LAST_3_FT_PCT = h_last_3['FT_PCT'],\n",
        "                            H_LAST_3_FG3_PCT = h_last_3['FG3_PCT'],\n",
        "                            H_LAST_3_AST = h_last_3['AST'],\n",
        "                            H_LAST_3_REB = h_last_3['REB'],\n",
        "                            A_LAST_3_PTS = a_last_3['SCORE'],\n",
        "                            A_LAST_3_FG_PCT = a_last_3['FG_PCT'],\n",
        "                            A_LAST_3_FT_PCT = a_last_3['FT_PCT'],\n",
        "                            A_LAST_3_FG3_PCT = a_last_3['FG3_PCT'],\n",
        "                            A_LAST_3_AST = a_last_3['AST'],\n",
        "                            A_LAST_3_REB = a_last_3['REB'],\n",
        "                            H_LAST_5_PTS = h_last_5['SCORE'],\n",
        "                            H_LAST_5_FG_PCT = h_last_5['FG_PCT'],\n",
        "                            H_LAST_5_FT_PCT = h_last_5['FT_PCT'],\n",
        "                            H_LAST_5_FG3_PCT = h_last_5['FG3_PCT'],\n",
        "                            H_LAST_5_AST = h_last_5['AST'],\n",
        "                            H_LAST_5_REB = h_last_5['REB'],\n",
        "                            A_LAST_5_PTS = a_last_5['SCORE'],\n",
        "                            A_LAST_5_FG_PCT = a_last_5['FG_PCT'],\n",
        "                            A_LAST_5_FT_PCT = a_last_5['FT_PCT'],\n",
        "                            A_LAST_5_FG3_PCT = a_last_5['FG3_PCT'],\n",
        "                            A_LAST_5_AST = a_last_5['AST'],\n",
        "                            A_LAST_5_REB = a_last_5['REB'],\n",
        "                            H_LAST_10_PTS = h_last_10['SCORE'],\n",
        "                            H_LAST_10_FG_PCT = h_last_10['FG_PCT'],\n",
        "                            H_LAST_10_FT_PCT = h_last_10['FT_PCT'],\n",
        "                            H_LAST_10_FG3_PCT = h_last_10['FG3_PCT'],\n",
        "                            H_LAST_10_AST = h_last_10['AST'],\n",
        "                            H_LAST_10_REB = h_last_10['REB'],\n",
        "                            A_LAST_10_PTS = a_last_10['SCORE'],\n",
        "                            A_LAST_10_FG_PCT = a_last_10['FG_PCT'],\n",
        "                            A_LAST_10_FT_PCT = a_last_10['FT_PCT'],\n",
        "                            A_LAST_10_FG3_PCT = a_last_10['FG3_PCT'],\n",
        "                            A_LAST_10_AST = a_last_10['AST'],\n",
        "                            A_LAST_10_REB = a_last_10['REB'])\n",
        "\n",
        "  recent_stats_df = recent_stats_df.append(recent_stats_df_row, ignore_index=True)"
      ],
      "execution_count": null,
      "outputs": []
    },
    {
      "cell_type": "code",
      "metadata": {
        "id": "i_M1IjxkB2eJ"
      },
      "source": [
        "#save to csv\n",
        "recent_stats_df.to_csv('drive/MyDrive/Colab Notebooks/Final/V2/Data/Recent_Stats.csv', index=False)"
      ],
      "execution_count": null,
      "outputs": []
    },
    {
      "cell_type": "code",
      "metadata": {
        "id": "0lE3jetvWnKS"
      },
      "source": [
        "#same as before with the ELO df, we will generate a new df that stores the most recent average stats for each team\n",
        "team_recent_stats_df = pd.DataFrame(columns=['TEAM',\n",
        "                                             'LAST_3_PTS',\n",
        "                                             'LAST_3_FG_PCT',\n",
        "                                             'LAST_3_FT_PCT',\n",
        "                                             'LAST_3_FG3_PCT',\n",
        "                                             'LAST_3_AST',\n",
        "                                             'LAST_3_REB',\n",
        "                                             'LAST_5_PTS',\n",
        "                                             'LAST_5_FG_PCT',\n",
        "                                             'LAST_5_FT_PCT',\n",
        "                                             'LAST_5_FG3_PCT',\n",
        "                                             'LAST_5_AST',\n",
        "                                             'LAST_5_REB',\n",
        "                                             'LAST_10_PTS',\n",
        "                                             'LAST_10_FG_PCT',\n",
        "                                             'LAST_10_FT_PCT',\n",
        "                                             'LAST_10_FG3_PCT',\n",
        "                                             'LAST_10_AST',\n",
        "                                             'LAST_10_REB',])\n",
        "\n",
        "#iterate once for every unique team (test size is large enough that it contains all teams)\n",
        "for team in recent_stats_df['HOME_TEAM_ID'].unique():\n",
        "  #get only the rows of the dataframe that contain the team in question\n",
        "  team_df = recent_stats_df[(recent_stats_df['HOME_TEAM_ID'] == team) | (recent_stats_df['VISITOR_TEAM_ID'] == team)].sort_values(by='GAME_DATE_EST').tail(1).iloc[0]\n",
        "  \n",
        "  #store values for both home and away team\n",
        "  h_team = team_df['HOME_TEAM_ID']\n",
        "  a_team = team_df['VISITOR_TEAM_ID']\n",
        "  h_last_3_pts = team_df['H_LAST_3_PTS']\n",
        "  h_last_3_fg_pct = team_df['H_LAST_3_FG_PCT']\n",
        "  h_last_3_ft_pct = team_df['H_LAST_3_FT_PCT']\n",
        "  h_last_3_fg3_pct = team_df['H_LAST_3_FG3_PCT']\n",
        "  h_last_3_ast = team_df['H_LAST_3_AST']\n",
        "  h_last_3_reb = team_df['H_LAST_3_REB']\n",
        "  h_last_5_pts = team_df['H_LAST_5_PTS']\n",
        "  h_last_5_fg_pct = team_df['H_LAST_5_FG_PCT']\n",
        "  h_last_5_ft_pct = team_df['H_LAST_5_FT_PCT']\n",
        "  h_last_5_fg3_pct = team_df['H_LAST_5_FG3_PCT']\n",
        "  h_last_5_ast = team_df['H_LAST_5_AST']\n",
        "  h_last_5_reb = team_df['H_LAST_5_REB']\n",
        "  h_last_10_pts = team_df['H_LAST_10_PTS']\n",
        "  h_last_10_fg_pct = team_df['H_LAST_10_FG_PCT']\n",
        "  h_last_10_ft_pct = team_df['H_LAST_10_FT_PCT']\n",
        "  h_last_10_fg3_pct = team_df['H_LAST_10_FG3_PCT']\n",
        "  h_last_10_ast = team_df['H_LAST_10_AST']\n",
        "  h_last_10_reb = team_df['H_LAST_10_REB']\n",
        "  a_last_3_pts = team_df['A_LAST_3_PTS']\n",
        "  a_last_3_fg_pct = team_df['A_LAST_3_FG_PCT']\n",
        "  a_last_3_ft_pct = team_df['A_LAST_3_FT_PCT']\n",
        "  a_last_3_fg3_pct = team_df['A_LAST_3_FG3_PCT']\n",
        "  a_last_3_ast = team_df['A_LAST_3_AST']\n",
        "  a_last_3_reb = team_df['A_LAST_3_REB']\n",
        "  a_last_5_pts = team_df['A_LAST_5_PTS']\n",
        "  a_last_5_fg_pct = team_df['A_LAST_5_FG_PCT']\n",
        "  a_last_5_ft_pct = team_df['A_LAST_5_FT_PCT']\n",
        "  a_last_5_fg3_pct = team_df['A_LAST_5_FG3_PCT']\n",
        "  a_last_5_ast = team_df['A_LAST_5_AST']\n",
        "  a_last_5_reb = team_df['A_LAST_5_REB']\n",
        "  a_last_10_pts = team_df['A_LAST_10_PTS']\n",
        "  a_last_10_fg_pct = team_df['A_LAST_10_FG_PCT']\n",
        "  a_last_10_ft_pct = team_df['A_LAST_10_FT_PCT']\n",
        "  a_last_10_fg3_pct = team_df['A_LAST_10_FG3_PCT']\n",
        "  a_last_10_ast = team_df['A_LAST_10_AST']\n",
        "  a_last_10_reb = team_df['A_LAST_10_REB']\n",
        "\n",
        "  #if team was home, take the home team values\n",
        "  #otherwise take the away team values\n",
        "  if team == h_team:\n",
        "    last_3_pts = h_last_3_pts\n",
        "    last_3_fg_pct = h_last_3_fg_pct\n",
        "    last_3_ft_pct = h_last_3_ft_pct\n",
        "    last_3_fg3_pct = h_last_3_fg3_pct\n",
        "    last_3_ast = h_last_3_ast\n",
        "    last_3_reb = h_last_3_reb\n",
        "\n",
        "    last_5_pts = h_last_5_pts\n",
        "    last_5_fg_pct = h_last_5_fg_pct\n",
        "    last_5_ft_pct = h_last_5_ft_pct\n",
        "    last_5_fg3_pct = h_last_5_fg3_pct\n",
        "    last_5_ast = h_last_5_ast\n",
        "    last_5_reb = h_last_5_reb\n",
        "\n",
        "    last_10_pts = h_last_10_pts\n",
        "    last_10_fg_pct = h_last_10_fg_pct\n",
        "    last_10_ft_pct = h_last_10_ft_pct\n",
        "    last_10_fg3_pct = h_last_10_fg3_pct\n",
        "    last_10_ast = h_last_10_ast\n",
        "    last_10_reb = h_last_10_reb\n",
        "\n",
        "  else:\n",
        "    last_3_pts = a_last_3_pts\n",
        "    last_3_fg_pct = a_last_3_fg_pct\n",
        "    last_3_ft_pct = a_last_3_ft_pct\n",
        "    last_3_fg3_pct = a_last_3_fg3_pct\n",
        "    last_3_ast = a_last_3_ast\n",
        "    last_3_reb = a_last_3_reb\n",
        "\n",
        "    last_5_pts = a_last_5_pts\n",
        "    last_5_fg_pct = a_last_5_fg_pct\n",
        "    last_5_ft_pct = a_last_5_ft_pct\n",
        "    last_5_fg3_pct = a_last_5_fg3_pct\n",
        "    last_5_ast = a_last_5_ast\n",
        "    last_5_reb = a_last_5_reb\n",
        "\n",
        "    last_10_pts = a_last_10_pts\n",
        "    last_10_fg_pct = a_last_10_fg_pct\n",
        "    last_10_ft_pct = a_last_10_ft_pct\n",
        "    last_10_fg3_pct = a_last_10_fg3_pct\n",
        "    last_10_ast = a_last_10_ast\n",
        "    last_10_reb = a_last_10_reb\n",
        "\n",
        "  #generate new row and append to df\n",
        "  team_recent_stats_df_row = dict(TEAM = team,\n",
        "                                  LAST_3_PTS = last_3_pts,\n",
        "                                  LAST_3_FG_PCT = last_3_fg_pct,\n",
        "                                  LAST_3_FT_PCT = last_3_ft_pct,\n",
        "                                  LAST_3_FG3_PCT = last_3_fg3_pct,\n",
        "                                  LAST_3_AST = last_3_ast,\n",
        "                                  LAST_3_REB = last_3_reb,\n",
        "                                  LAST_5_PTS = last_5_pts,\n",
        "                                  LAST_5_FG_PCT = last_5_fg_pct,\n",
        "                                  LAST_5_FT_PCT = last_5_ft_pct,\n",
        "                                  LAST_5_FG3_PCT = last_5_fg3_pct,\n",
        "                                  LAST_5_AST = last_5_ast,\n",
        "                                  LAST_5_REB = last_5_reb,\n",
        "                                  LAST_10_PTS = last_10_pts,\n",
        "                                  LAST_10_FG_PCT = last_10_fg_pct,\n",
        "                                  LAST_10_FT_PCT = last_10_ft_pct,\n",
        "                                  LAST_10_FG3_PCT = last_10_fg3_pct,\n",
        "                                  LAST_10_AST = last_10_ast,\n",
        "                                  LAST_10_REB = last_10_reb,)\n",
        "\n",
        "  team_recent_stats_df = team_recent_stats_df.append(team_recent_stats_df_row, ignore_index=True)"
      ],
      "execution_count": null,
      "outputs": []
    },
    {
      "cell_type": "code",
      "metadata": {
        "id": "8ktb9TG-Yg9g"
      },
      "source": [
        "#save to csv\n",
        "team_recent_stats_df.to_csv('drive/MyDrive/Colab Notebooks/Final/V2/Data/Team_Recent_Stats.csv', index=False)"
      ],
      "execution_count": null,
      "outputs": []
    },
    {
      "cell_type": "markdown",
      "metadata": {
        "id": "hOYltrBBOYdx"
      },
      "source": [
        "# Add Engineered Columns"
      ]
    },
    {
      "cell_type": "code",
      "metadata": {
        "id": "3j_edKUeOe9O"
      },
      "source": [
        "#load all datasets\n",
        "elo = pd.read_csv('drive/MyDrive/Colab Notebooks/Final/V2/Data/ELO.csv')\n",
        "team_elo = pd.read_csv('drive/MyDrive/Colab Notebooks/Final/V2/Data/Team_ELO.csv')\n",
        "recent_stats = pd.read_csv('drive/MyDrive/Colab Notebooks/Final/V2/Data/Recent_Stats.csv')\n",
        "team_recent_stats = pd.read_csv('drive/MyDrive/Colab Notebooks/Final/V2/Data/Team_Recent_Stats.csv')\n",
        "\n",
        "games_src_train = pd.read_csv('drive/MyDrive/Colab Notebooks/Final/V2/Data/games_train.csv', index_col=0)\n",
        "\n",
        "\n",
        "games_src_test = pd.read_csv('drive/MyDrive/Colab Notebooks/Final/V2/Data/games_test.csv', index_col=0)\n"
      ],
      "execution_count": null,
      "outputs": []
    },
    {
      "cell_type": "code",
      "metadata": {
        "colab": {
          "base_uri": "https://localhost:8080/",
          "height": 402
        },
        "id": "wDi_6M0IOoGn",
        "outputId": "1fbceb63-e868-438b-c97c-0ea8964e2468"
      },
      "source": [
        "#drop raw columns so we can replace with engineered columns\n",
        "games_src_train = games_src_train.iloc[:, [0,1,2,3,4,17]]\n",
        "games_src_train"
      ],
      "execution_count": null,
      "outputs": [
        {
          "output_type": "execute_result",
          "data": {
            "text/html": [
              "<div>\n",
              "<style scoped>\n",
              "    .dataframe tbody tr th:only-of-type {\n",
              "        vertical-align: middle;\n",
              "    }\n",
              "\n",
              "    .dataframe tbody tr th {\n",
              "        vertical-align: top;\n",
              "    }\n",
              "\n",
              "    .dataframe thead th {\n",
              "        text-align: right;\n",
              "    }\n",
              "</style>\n",
              "<table border=\"1\" class=\"dataframe\">\n",
              "  <thead>\n",
              "    <tr style=\"text-align: right;\">\n",
              "      <th></th>\n",
              "      <th>GAME_DATE_EST</th>\n",
              "      <th>GAME_ID</th>\n",
              "      <th>HOME_TEAM_ID</th>\n",
              "      <th>VISITOR_TEAM_ID</th>\n",
              "      <th>SEASON</th>\n",
              "      <th>HOME_TEAM_WINS</th>\n",
              "    </tr>\n",
              "  </thead>\n",
              "  <tbody>\n",
              "    <tr>\n",
              "      <th>0</th>\n",
              "      <td>2003-10-05</td>\n",
              "      <td>10300001</td>\n",
              "      <td>1610612762</td>\n",
              "      <td>1610612742</td>\n",
              "      <td>2003</td>\n",
              "      <td>1</td>\n",
              "    </tr>\n",
              "    <tr>\n",
              "      <th>1</th>\n",
              "      <td>2003-10-06</td>\n",
              "      <td>10300002</td>\n",
              "      <td>1610612763</td>\n",
              "      <td>1610612749</td>\n",
              "      <td>2003</td>\n",
              "      <td>1</td>\n",
              "    </tr>\n",
              "    <tr>\n",
              "      <th>2</th>\n",
              "      <td>2003-10-07</td>\n",
              "      <td>10300010</td>\n",
              "      <td>1610612764</td>\n",
              "      <td>1610612752</td>\n",
              "      <td>2003</td>\n",
              "      <td>1</td>\n",
              "    </tr>\n",
              "    <tr>\n",
              "      <th>3</th>\n",
              "      <td>2003-10-07</td>\n",
              "      <td>10300009</td>\n",
              "      <td>1610612758</td>\n",
              "      <td>1610612746</td>\n",
              "      <td>2003</td>\n",
              "      <td>1</td>\n",
              "    </tr>\n",
              "    <tr>\n",
              "      <th>4</th>\n",
              "      <td>2003-10-07</td>\n",
              "      <td>10300005</td>\n",
              "      <td>1610612757</td>\n",
              "      <td>1610612745</td>\n",
              "      <td>2003</td>\n",
              "      <td>1</td>\n",
              "    </tr>\n",
              "    <tr>\n",
              "      <th>...</th>\n",
              "      <td>...</td>\n",
              "      <td>...</td>\n",
              "      <td>...</td>\n",
              "      <td>...</td>\n",
              "      <td>...</td>\n",
              "      <td>...</td>\n",
              "    </tr>\n",
              "    <tr>\n",
              "      <th>23309</th>\n",
              "      <td>2020-08-22</td>\n",
              "      <td>41900103</td>\n",
              "      <td>1610612753</td>\n",
              "      <td>1610612749</td>\n",
              "      <td>2019</td>\n",
              "      <td>0</td>\n",
              "    </tr>\n",
              "    <tr>\n",
              "      <th>23310</th>\n",
              "      <td>2020-08-22</td>\n",
              "      <td>41900143</td>\n",
              "      <td>1610612757</td>\n",
              "      <td>1610612747</td>\n",
              "      <td>2019</td>\n",
              "      <td>0</td>\n",
              "    </tr>\n",
              "    <tr>\n",
              "      <th>23311</th>\n",
              "      <td>2020-08-22</td>\n",
              "      <td>41900133</td>\n",
              "      <td>1610612748</td>\n",
              "      <td>1610612754</td>\n",
              "      <td>2019</td>\n",
              "      <td>1</td>\n",
              "    </tr>\n",
              "    <tr>\n",
              "      <th>23312</th>\n",
              "      <td>2020-08-22</td>\n",
              "      <td>41900173</td>\n",
              "      <td>1610612760</td>\n",
              "      <td>1610612745</td>\n",
              "      <td>2019</td>\n",
              "      <td>1</td>\n",
              "    </tr>\n",
              "    <tr>\n",
              "      <th>23313</th>\n",
              "      <td>2020-08-23</td>\n",
              "      <td>41900124</td>\n",
              "      <td>1610612755</td>\n",
              "      <td>1610612738</td>\n",
              "      <td>2019</td>\n",
              "      <td>0</td>\n",
              "    </tr>\n",
              "  </tbody>\n",
              "</table>\n",
              "<p>23314 rows × 6 columns</p>\n",
              "</div>"
            ],
            "text/plain": [
              "      GAME_DATE_EST   GAME_ID  ...  SEASON  HOME_TEAM_WINS\n",
              "0        2003-10-05  10300001  ...    2003               1\n",
              "1        2003-10-06  10300002  ...    2003               1\n",
              "2        2003-10-07  10300010  ...    2003               1\n",
              "3        2003-10-07  10300009  ...    2003               1\n",
              "4        2003-10-07  10300005  ...    2003               1\n",
              "...             ...       ...  ...     ...             ...\n",
              "23309    2020-08-22  41900103  ...    2019               0\n",
              "23310    2020-08-22  41900143  ...    2019               0\n",
              "23311    2020-08-22  41900133  ...    2019               1\n",
              "23312    2020-08-22  41900173  ...    2019               1\n",
              "23313    2020-08-23  41900124  ...    2019               0\n",
              "\n",
              "[23314 rows x 6 columns]"
            ]
          },
          "metadata": {
            "tags": []
          },
          "execution_count": 201
        }
      ]
    },
    {
      "cell_type": "code",
      "metadata": {
        "colab": {
          "base_uri": "https://localhost:8080/"
        },
        "id": "3Z6MD5dRga0x",
        "outputId": "954b3233-6b83-45d6-fe93-03b8f160f0c2"
      },
      "source": [
        "len(games_src_train), len(elo), len(recent_stats), len(final_df_train)"
      ],
      "execution_count": null,
      "outputs": [
        {
          "output_type": "execute_result",
          "data": {
            "text/plain": [
              "(23314, 23314, 23314, 23314)"
            ]
          },
          "metadata": {
            "tags": []
          },
          "execution_count": 212
        }
      ]
    },
    {
      "cell_type": "code",
      "metadata": {
        "id": "xBadWiWuO5k3"
      },
      "source": [
        "#generate new df and add all engineered columns\n",
        "final_df_train = games_src_train.merge(elo.iloc[:, [1,4,5]], on='GAME_ID')\n",
        "final_df_train = final_df_train.merge(recent_stats.iloc[:, [1,5,6,7,8,9,10,11,12,13,14,15,16,17,18,19,20,21,22,23,24,25,26,27,28,29,30,31,32,33,34,35,36,37,38,39,40]], on='GAME_ID')\n",
        "final_df_train.dropna(inplace=True) #drop the rows that did not have sufficient data to calculate recent stats (they have NAN)\n",
        "final_df_train.reset_index(drop=True, inplace=True)"
      ],
      "execution_count": null,
      "outputs": []
    },
    {
      "cell_type": "code",
      "metadata": {
        "id": "AY6kPpTiPGef"
      },
      "source": [
        "#split X and y\n",
        "final_df_y_train = final_df_train['HOME_TEAM_WINS']\n",
        "final_df_X_train = final_df_train.drop(columns=['HOME_TEAM_WINS'])\n",
        "final_df_y_test = games_src_test['HOME_TEAM_WINS']\n",
        "final_df_X_test = games_src_test.iloc[:, :5]"
      ],
      "execution_count": null,
      "outputs": []
    },
    {
      "cell_type": "code",
      "metadata": {
        "id": "DaChiA4hPNIz"
      },
      "source": [
        "#save to csv\n",
        "final_df_X_test.to_csv('drive/MyDrive/Colab Notebooks/Final/V2/Data/X_Test.csv')\n",
        "final_df_X_train.to_csv('drive/MyDrive/Colab Notebooks/Final/V2/Data/X_Train.csv')\n",
        "final_df_y_test.to_csv('drive/MyDrive/Colab Notebooks/Final/V2/Data/y_Test.csv')\n",
        "final_df_y_train.to_csv('drive/MyDrive/Colab Notebooks/Final/V2/Data/y_Train.csv')"
      ],
      "execution_count": null,
      "outputs": []
    },
    {
      "cell_type": "code",
      "metadata": {
        "id": "ZbI6BpfEPUAK"
      },
      "source": [
        "X_train = pd.read_csv('drive/MyDrive/Colab Notebooks/Final/V2/Data/X_Train.csv', index_col=0)\n",
        "X_test = pd.read_csv('drive/MyDrive/Colab Notebooks/Final/V2/Data/X_Test.csv', index_col=0)\n",
        "y_train = pd.read_csv('drive/MyDrive/Colab Notebooks/Final/V2/Data/y_Train.csv', index_col=0)\n",
        "y_test = pd.read_csv('drive/MyDrive/Colab Notebooks/Final/V2/Data/y_Test.csv', index_col=0)"
      ],
      "execution_count": null,
      "outputs": []
    },
    {
      "cell_type": "code",
      "metadata": {
        "id": "nLPmTnDvPdnO"
      },
      "source": [
        "#add engineered columns to test set\n",
        "test_h_elo, test_a_elo = [],[]\n",
        "test_h_last_3_pts, test_a_last_3_pts = [],[]\n",
        "test_h_last_3_fg_pct, test_a_last_3_fg_pct = [],[]\n",
        "test_h_last_3_ft_pct, test_a_last_3_ft_pct = [],[]\n",
        "test_h_last_3_fg3_pct, test_a_last_3_fg3_pct = [],[]\n",
        "test_h_last_3_ast, test_a_last_3_ast = [],[]\n",
        "test_h_last_3_reb, test_a_last_3_reb = [],[]\n",
        "\n",
        "test_h_last_5_pts, test_a_last_5_pts = [],[]\n",
        "test_h_last_5_fg_pct, test_a_last_5_fg_pct = [],[]\n",
        "test_h_last_5_ft_pct, test_a_last_5_ft_pct = [],[]\n",
        "test_h_last_5_fg3_pct, test_a_last_5_fg3_pct = [],[]\n",
        "test_h_last_5_ast, test_a_last_5_ast = [],[]\n",
        "test_h_last_5_reb, test_a_last_5_reb = [],[]\n",
        "\n",
        "test_h_last_10_pts, test_a_last_10_pts = [],[]\n",
        "test_h_last_10_fg_pct, test_a_last_10_fg_pct = [],[]\n",
        "test_h_last_10_ft_pct, test_a_last_10_ft_pct = [],[]\n",
        "test_h_last_10_fg3_pct, test_a_last_10_fg3_pct = [],[]\n",
        "test_h_last_10_ast, test_a_last_10_ast = [],[]\n",
        "test_h_last_10_reb, test_a_last_10_reb = [],[]\n",
        "\n",
        "for idx, row in X_test.iterrows():\n",
        "  h_team = row['HOME_TEAM_ID']\n",
        "  a_team = row[\"VISITOR_TEAM_ID\"]\n",
        "  \n",
        "  h_elo = team_elo[team_elo['TEAM'] == h_team].iloc[0]['ELO']\n",
        "  a_elo = team_elo[team_elo['TEAM'] == a_team].iloc[0]['ELO']\n",
        "  \n",
        "  h_last = team_recent_stats[team_recent_stats['TEAM'] == h_team].iloc[0]\n",
        "  h_last_3_pts = h_last['LAST_3_PTS']\n",
        "  h_last_3_fg_pct = h_last['LAST_3_FG_PCT']\n",
        "  h_last_3_ft_pct = h_last['LAST_3_FT_PCT']\n",
        "  h_last_3_fg3_pct = h_last['LAST_3_FG3_PCT']\n",
        "  h_last_3_ast = h_last['LAST_3_AST']\n",
        "  h_last_3_reb = h_last['LAST_3_REB']\n",
        "  h_last_5_pts = h_last['LAST_5_PTS']\n",
        "  h_last_5_fg_pct = h_last['LAST_5_FG_PCT']\n",
        "  h_last_5_ft_pct = h_last['LAST_5_FT_PCT']\n",
        "  h_last_5_fg3_pct = h_last['LAST_5_FG3_PCT']\n",
        "  h_last_5_ast = h_last['LAST_5_AST']\n",
        "  h_last_5_reb = h_last['LAST_5_REB']\n",
        "  h_last_10_pts = h_last['LAST_10_PTS']\n",
        "  h_last_10_fg_pct = h_last['LAST_10_FG_PCT']\n",
        "  h_last_10_ft_pct = h_last['LAST_10_FT_PCT']\n",
        "  h_last_10_fg3_pct = h_last['LAST_10_FG3_PCT']\n",
        "  h_last_10_ast = h_last['LAST_10_AST']\n",
        "  h_last_10_reb = h_last['LAST_10_REB']\n",
        "\n",
        "  a_last = team_recent_stats[team_recent_stats['TEAM'] == a_team].iloc[0]\n",
        "  a_last_3_pts = a_last['LAST_3_PTS']\n",
        "  a_last_3_fg_pct = a_last['LAST_3_FG_PCT']\n",
        "  a_last_3_ft_pct = a_last['LAST_3_FT_PCT']\n",
        "  a_last_3_fg3_pct = a_last['LAST_3_FG3_PCT']\n",
        "  a_last_3_ast = a_last['LAST_3_AST']\n",
        "  a_last_3_reb = a_last['LAST_3_REB']\n",
        "  a_last_5_pts = a_last['LAST_5_PTS']\n",
        "  a_last_5_fg_pct = a_last['LAST_5_FG_PCT']\n",
        "  a_last_5_ft_pct = a_last['LAST_5_FT_PCT']\n",
        "  a_last_5_fg3_pct = a_last['LAST_5_FG3_PCT']\n",
        "  a_last_5_ast = a_last['LAST_5_AST']\n",
        "  a_last_5_reb = a_last['LAST_5_REB']\n",
        "  a_last_10_pts = a_last['LAST_10_PTS']\n",
        "  a_last_10_fg_pct = a_last['LAST_10_FG_PCT']\n",
        "  a_last_10_ft_pct = a_last['LAST_10_FT_PCT']\n",
        "  a_last_10_fg3_pct = a_last['LAST_10_FG3_PCT']\n",
        "  a_last_10_ast = a_last['LAST_10_AST']\n",
        "  a_last_10_reb = a_last['LAST_10_REB']\n",
        "\n",
        "  \n",
        "  test_h_elo.append(h_elo)\n",
        "  test_h_last_3_pts.append(h_last_3_pts)\n",
        "  test_h_last_3_fg_pct.append(h_last_3_fg_pct)\n",
        "  test_h_last_3_ft_pct.append(h_last_3_ft_pct)\n",
        "  test_h_last_3_fg3_pct.append(h_last_3_fg3_pct)\n",
        "  test_h_last_3_ast.append(h_last_3_ast)\n",
        "  test_h_last_3_reb.append(h_last_3_reb)\n",
        "  test_h_last_5_pts.append(h_last_5_pts)\n",
        "  test_h_last_5_fg_pct.append(h_last_5_fg_pct)\n",
        "  test_h_last_5_ft_pct.append(h_last_5_ft_pct)\n",
        "  test_h_last_5_fg3_pct.append(h_last_5_fg3_pct)\n",
        "  test_h_last_5_ast.append(h_last_5_ast)\n",
        "  test_h_last_5_reb.append(h_last_5_reb)\n",
        "  test_h_last_10_pts.append(h_last_10_pts)\n",
        "  test_h_last_10_fg_pct.append(h_last_10_fg_pct)\n",
        "  test_h_last_10_ft_pct.append(h_last_10_ft_pct)\n",
        "  test_h_last_10_fg3_pct.append(h_last_10_fg3_pct)\n",
        "  test_h_last_10_ast.append(h_last_10_ast)\n",
        "  test_h_last_10_reb.append(h_last_10_reb)\n",
        "\n",
        "  test_a_elo.append(h_elo)\n",
        "  test_a_last_3_pts.append(a_last_3_pts)\n",
        "  test_a_last_3_fg_pct.append(a_last_3_fg_pct)\n",
        "  test_a_last_3_ft_pct.append(a_last_3_ft_pct)\n",
        "  test_a_last_3_fg3_pct.append(a_last_3_fg3_pct)\n",
        "  test_a_last_3_ast.append(a_last_3_ast)\n",
        "  test_a_last_3_reb.append(a_last_3_reb)\n",
        "  test_a_last_5_pts.append(a_last_5_pts)\n",
        "  test_a_last_5_fg_pct.append(a_last_5_fg_pct)\n",
        "  test_a_last_5_ft_pct.append(a_last_5_ft_pct)\n",
        "  test_a_last_5_fg3_pct.append(a_last_5_fg3_pct)\n",
        "  test_a_last_5_ast.append(a_last_5_ast)\n",
        "  test_a_last_5_reb.append(a_last_5_reb)\n",
        "  test_a_last_10_pts.append(a_last_10_pts)\n",
        "  test_a_last_10_fg_pct.append(a_last_10_fg_pct)\n",
        "  test_a_last_10_ft_pct.append(a_last_10_ft_pct)\n",
        "  test_a_last_10_fg3_pct.append(a_last_10_fg3_pct)\n",
        "  test_a_last_10_ast.append(a_last_10_ast)\n",
        "  test_a_last_10_reb.append(a_last_10_reb)\n",
        "\n",
        "\n",
        "\n",
        "X_test['H_ELO'] = test_h_elo\n",
        "X_test['A_ELO'] = test_a_elo\n",
        "X_test['H_LAST_3_PTS'] = test_h_last_3_pts\n",
        "X_test['A_LAST_3_PTS'] = test_a_last_3_pts\n",
        "X_test['H_LAST_3_FG_PCT'] = test_h_last_3_fg_pct\n",
        "X_test['A_LAST_3_FG_PCT'] = test_a_last_3_fg_pct\n",
        "X_test['H_LAST_3_FT_PCT'] = test_h_last_3_ft_pct\n",
        "X_test['A_LAST_3_FT_PCT'] = test_a_last_3_ft_pct\n",
        "X_test['H_LAST_3_FG3_PCT'] = test_h_last_3_fg3_pct\n",
        "X_test['A_LAST_3_FG3_PCT'] = test_a_last_3_fg3_pct\n",
        "X_test['H_LAST_3_AST'] = test_h_last_3_ast\n",
        "X_test['A_LAST_3_AST'] = test_a_last_3_ast\n",
        "X_test['H_LAST_3_REB'] = test_h_last_3_reb\n",
        "X_test['A_LAST_3_REB'] = test_a_last_3_reb\n",
        "X_test['H_LAST_5_PTS'] = test_h_last_5_pts\n",
        "X_test['A_LAST_5_PTS'] = test_a_last_5_pts\n",
        "X_test['H_LAST_5_FG_PCT'] = test_h_last_5_fg_pct\n",
        "X_test['A_LAST_5_FG_PCT'] = test_a_last_5_fg_pct\n",
        "X_test['H_LAST_5_FT_PCT'] = test_h_last_5_ft_pct\n",
        "X_test['A_LAST_5_FT_PCT'] = test_a_last_5_ft_pct\n",
        "X_test['H_LAST_5_FG3_PCT'] = test_h_last_5_fg3_pct\n",
        "X_test['A_LAST_5_FG3_PCT'] = test_a_last_5_fg3_pct\n",
        "X_test['H_LAST_5_AST'] = test_h_last_5_ast\n",
        "X_test['A_LAST_5_AST'] = test_a_last_5_ast\n",
        "X_test['H_LAST_5_REB'] = test_h_last_5_reb\n",
        "X_test['A_LAST_5_REB'] = test_a_last_5_reb\n",
        "X_test['H_LAST_10_PTS'] = test_h_last_10_pts\n",
        "X_test['A_LAST_10_PTS'] = test_a_last_10_pts\n",
        "X_test['H_LAST_10_FG_PCT'] = test_h_last_10_fg_pct\n",
        "X_test['A_LAST_10_FG_PCT'] = test_a_last_10_fg_pct\n",
        "X_test['H_LAST_10_FT_PCT'] = test_h_last_10_ft_pct\n",
        "X_test['A_LAST_10_FT_PCT'] = test_a_last_10_ft_pct\n",
        "X_test['H_LAST_10_FG3_PCT'] = test_h_last_10_fg3_pct\n",
        "X_test['A_LAST_10_FG3_PCT'] = test_a_last_10_fg3_pct\n",
        "X_test['H_LAST_10_AST'] = test_h_last_10_ast\n",
        "X_test['A_LAST_10_AST'] = test_a_last_10_ast\n",
        "X_test['H_LAST_10_REB'] = test_h_last_10_reb\n",
        "X_test['A_LAST_10_REB'] = test_a_last_10_reb"
      ],
      "execution_count": null,
      "outputs": []
    },
    {
      "cell_type": "code",
      "metadata": {
        "id": "EG2PxJ-9Qfo8"
      },
      "source": [
        "#save to csv\n",
        "X_train.to_csv('drive/MyDrive/Colab Notebooks/Final/V2/Data/X_Train_Eng.csv')\n",
        "X_test.to_csv('drive/MyDrive/Colab Notebooks/Final/V2/Data/X_Test_Eng.csv')\n",
        "y_train.to_csv('drive/MyDrive/Colab Notebooks/Final/V2/Data/y_Train_Eng.csv')\n",
        "y_test.to_csv('drive/MyDrive/Colab Notebooks/Final/V2/Data/y_Test_Eng.csv')"
      ],
      "execution_count": null,
      "outputs": []
    },
    {
      "cell_type": "code",
      "metadata": {
        "id": "j7yXkyn_RECJ"
      },
      "source": [
        ""
      ],
      "execution_count": null,
      "outputs": []
    }
  ]
}